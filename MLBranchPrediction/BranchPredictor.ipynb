{
  "nbformat": 4,
  "nbformat_minor": 0,
  "metadata": {
    "colab": {
      "provenance": []
    },
    "kernelspec": {
      "name": "python3",
      "display_name": "Python 3"
    },
    "language_info": {
      "name": "python"
    }
  },
  "cells": [
    {
      "cell_type": "code",
      "source": [
        "import numpy as np\n",
        "import pandas as pd\n",
        "from sklearn.model_selection import train_test_split, cross_val_score\n",
        "from sklearn.linear_model import LogisticRegression\n",
        "from sklearn.tree import DecisionTreeClassifier\n",
        "from sklearn.metrics import precision_score, recall_score, f1_score\n",
        "\n",
        "from google.colab import files\n",
        "uploaded = files.upload()"
      ],
      "metadata": {
        "id": "mpur7rL3Q70x",
        "colab": {
          "base_uri": "https://localhost:8080/",
          "height": 73
        },
        "outputId": "4ca31ccd-0496-4496-a4b2-1418216ce1da"
      },
      "execution_count": 23,
      "outputs": [
        {
          "output_type": "display_data",
          "data": {
            "text/plain": [
              "<IPython.core.display.HTML object>"
            ],
            "text/html": [
              "\n",
              "     <input type=\"file\" id=\"files-a0a17b1b-c837-41f8-ab07-28cdb9b65906\" name=\"files[]\" multiple disabled\n",
              "        style=\"border:none\" />\n",
              "     <output id=\"result-a0a17b1b-c837-41f8-ab07-28cdb9b65906\">\n",
              "      Upload widget is only available when the cell has been executed in the\n",
              "      current browser session. Please rerun this cell to enable.\n",
              "      </output>\n",
              "      <script>// Copyright 2017 Google LLC\n",
              "//\n",
              "// Licensed under the Apache License, Version 2.0 (the \"License\");\n",
              "// you may not use this file except in compliance with the License.\n",
              "// You may obtain a copy of the License at\n",
              "//\n",
              "//      http://www.apache.org/licenses/LICENSE-2.0\n",
              "//\n",
              "// Unless required by applicable law or agreed to in writing, software\n",
              "// distributed under the License is distributed on an \"AS IS\" BASIS,\n",
              "// WITHOUT WARRANTIES OR CONDITIONS OF ANY KIND, either express or implied.\n",
              "// See the License for the specific language governing permissions and\n",
              "// limitations under the License.\n",
              "\n",
              "/**\n",
              " * @fileoverview Helpers for google.colab Python module.\n",
              " */\n",
              "(function(scope) {\n",
              "function span(text, styleAttributes = {}) {\n",
              "  const element = document.createElement('span');\n",
              "  element.textContent = text;\n",
              "  for (const key of Object.keys(styleAttributes)) {\n",
              "    element.style[key] = styleAttributes[key];\n",
              "  }\n",
              "  return element;\n",
              "}\n",
              "\n",
              "// Max number of bytes which will be uploaded at a time.\n",
              "const MAX_PAYLOAD_SIZE = 100 * 1024;\n",
              "\n",
              "function _uploadFiles(inputId, outputId) {\n",
              "  const steps = uploadFilesStep(inputId, outputId);\n",
              "  const outputElement = document.getElementById(outputId);\n",
              "  // Cache steps on the outputElement to make it available for the next call\n",
              "  // to uploadFilesContinue from Python.\n",
              "  outputElement.steps = steps;\n",
              "\n",
              "  return _uploadFilesContinue(outputId);\n",
              "}\n",
              "\n",
              "// This is roughly an async generator (not supported in the browser yet),\n",
              "// where there are multiple asynchronous steps and the Python side is going\n",
              "// to poll for completion of each step.\n",
              "// This uses a Promise to block the python side on completion of each step,\n",
              "// then passes the result of the previous step as the input to the next step.\n",
              "function _uploadFilesContinue(outputId) {\n",
              "  const outputElement = document.getElementById(outputId);\n",
              "  const steps = outputElement.steps;\n",
              "\n",
              "  const next = steps.next(outputElement.lastPromiseValue);\n",
              "  return Promise.resolve(next.value.promise).then((value) => {\n",
              "    // Cache the last promise value to make it available to the next\n",
              "    // step of the generator.\n",
              "    outputElement.lastPromiseValue = value;\n",
              "    return next.value.response;\n",
              "  });\n",
              "}\n",
              "\n",
              "/**\n",
              " * Generator function which is called between each async step of the upload\n",
              " * process.\n",
              " * @param {string} inputId Element ID of the input file picker element.\n",
              " * @param {string} outputId Element ID of the output display.\n",
              " * @return {!Iterable<!Object>} Iterable of next steps.\n",
              " */\n",
              "function* uploadFilesStep(inputId, outputId) {\n",
              "  const inputElement = document.getElementById(inputId);\n",
              "  inputElement.disabled = false;\n",
              "\n",
              "  const outputElement = document.getElementById(outputId);\n",
              "  outputElement.innerHTML = '';\n",
              "\n",
              "  const pickedPromise = new Promise((resolve) => {\n",
              "    inputElement.addEventListener('change', (e) => {\n",
              "      resolve(e.target.files);\n",
              "    });\n",
              "  });\n",
              "\n",
              "  const cancel = document.createElement('button');\n",
              "  inputElement.parentElement.appendChild(cancel);\n",
              "  cancel.textContent = 'Cancel upload';\n",
              "  const cancelPromise = new Promise((resolve) => {\n",
              "    cancel.onclick = () => {\n",
              "      resolve(null);\n",
              "    };\n",
              "  });\n",
              "\n",
              "  // Wait for the user to pick the files.\n",
              "  const files = yield {\n",
              "    promise: Promise.race([pickedPromise, cancelPromise]),\n",
              "    response: {\n",
              "      action: 'starting',\n",
              "    }\n",
              "  };\n",
              "\n",
              "  cancel.remove();\n",
              "\n",
              "  // Disable the input element since further picks are not allowed.\n",
              "  inputElement.disabled = true;\n",
              "\n",
              "  if (!files) {\n",
              "    return {\n",
              "      response: {\n",
              "        action: 'complete',\n",
              "      }\n",
              "    };\n",
              "  }\n",
              "\n",
              "  for (const file of files) {\n",
              "    const li = document.createElement('li');\n",
              "    li.append(span(file.name, {fontWeight: 'bold'}));\n",
              "    li.append(span(\n",
              "        `(${file.type || 'n/a'}) - ${file.size} bytes, ` +\n",
              "        `last modified: ${\n",
              "            file.lastModifiedDate ? file.lastModifiedDate.toLocaleDateString() :\n",
              "                                    'n/a'} - `));\n",
              "    const percent = span('0% done');\n",
              "    li.appendChild(percent);\n",
              "\n",
              "    outputElement.appendChild(li);\n",
              "\n",
              "    const fileDataPromise = new Promise((resolve) => {\n",
              "      const reader = new FileReader();\n",
              "      reader.onload = (e) => {\n",
              "        resolve(e.target.result);\n",
              "      };\n",
              "      reader.readAsArrayBuffer(file);\n",
              "    });\n",
              "    // Wait for the data to be ready.\n",
              "    let fileData = yield {\n",
              "      promise: fileDataPromise,\n",
              "      response: {\n",
              "        action: 'continue',\n",
              "      }\n",
              "    };\n",
              "\n",
              "    // Use a chunked sending to avoid message size limits. See b/62115660.\n",
              "    let position = 0;\n",
              "    do {\n",
              "      const length = Math.min(fileData.byteLength - position, MAX_PAYLOAD_SIZE);\n",
              "      const chunk = new Uint8Array(fileData, position, length);\n",
              "      position += length;\n",
              "\n",
              "      const base64 = btoa(String.fromCharCode.apply(null, chunk));\n",
              "      yield {\n",
              "        response: {\n",
              "          action: 'append',\n",
              "          file: file.name,\n",
              "          data: base64,\n",
              "        },\n",
              "      };\n",
              "\n",
              "      let percentDone = fileData.byteLength === 0 ?\n",
              "          100 :\n",
              "          Math.round((position / fileData.byteLength) * 100);\n",
              "      percent.textContent = `${percentDone}% done`;\n",
              "\n",
              "    } while (position < fileData.byteLength);\n",
              "  }\n",
              "\n",
              "  // All done.\n",
              "  yield {\n",
              "    response: {\n",
              "      action: 'complete',\n",
              "    }\n",
              "  };\n",
              "}\n",
              "\n",
              "scope.google = scope.google || {};\n",
              "scope.google.colab = scope.google.colab || {};\n",
              "scope.google.colab._files = {\n",
              "  _uploadFiles,\n",
              "  _uploadFilesContinue,\n",
              "};\n",
              "})(self);\n",
              "</script> "
            ]
          },
          "metadata": {}
        },
        {
          "output_type": "stream",
          "name": "stdout",
          "text": [
            "Saving BranchPredictorDataset.csv to BranchPredictorDataset (1).csv\n"
          ]
        }
      ]
    },
    {
      "cell_type": "markdown",
      "source": [
        "# Loading Dataset\n",
        "A dataset containing a history of the branches stored in the following format:\n",
        "\n",
        "   **Program Counter,  Branch History, Outcome (0/1)**\n",
        "\n",
        "\n",
        "---\n",
        "\n",
        "\n",
        "\n",
        "0x00400A, 1101, 1\n",
        "\n",
        "0x00402C, 0110, 0\n"
      ],
      "metadata": {
        "id": "hY7W1OqNRYG9"
      }
    },
    {
      "cell_type": "code",
      "execution_count": 25,
      "metadata": {
        "id": "kX36AKYIQE32"
      },
      "outputs": [],
      "source": [
        "try:\n",
        "    df = pd.read_csv(\"BranchPredictorDataset.csv\", encoding='utf-8')\n",
        "except FileNotFoundError:\n",
        "    print(\"Error: The dataset file 'BranchPredictorDataset.csv' was not found.\")\n",
        "    exit()\n",
        "\n",
        "\n",
        "df.columns = df.columns.str.strip().str.lower()\n",
        "expected_history_col = \"branch history\"\n",
        "expected_outcome_col = \"branch outcome\"\n",
        "\n",
        "if expected_history_col not in df.columns:\n",
        "    possible_cols = [col for col in df.columns if \"branch\" in col and \"history\" in col]\n",
        "    if possible_cols:\n",
        "        print(f\"Did you mean one of these columns instead? {possible_cols}\")\n",
        "    else:\n",
        "        print(f\"Error: Column '{expected_history_col}' not found in the DataFrame.\")\n",
        "    exit()\n",
        "\n",
        "if expected_outcome_col not in df.columns:\n",
        "    print(f\"Error: Column '{expected_outcome_col}' not found in the DataFrame.\")\n",
        "    exit()\n",
        "\n",
        "df[expected_history_col] = df[expected_history_col].astype(str).apply(lambda x: [int(b) for b in x if b.isdigit()])\n",
        "X = np.array(df[expected_history_col].tolist())\n",
        "y = df[expected_outcome_col].values\n",
        "X_train, X_test, y_train, y_test = train_test_split(X, y, test_size=0.2, random_state=42)\n"
      ]
    },
    {
      "cell_type": "code",
      "source": [
        "import matplotlib.pyplot as plt\n",
        "\n",
        "class_counts = pd.Series(y).value_counts()\n",
        "print(\"Class Distribution:\\n\", class_counts)\n",
        "plt.figure(figsize=(6, 4))\n",
        "class_counts.plot(kind='bar', color=['blue', 'orange'])\n",
        "plt.xlabel(\"Class Labels\")\n",
        "plt.ylabel(\"Count\")\n",
        "plt.title(\"Class Distribution in Dataset\")\n",
        "plt.show()"
      ],
      "metadata": {
        "colab": {
          "base_uri": "https://localhost:8080/",
          "height": 474
        },
        "id": "_FU4sJm1U7MV",
        "outputId": "a9127e07-e302-4ce3-d2cc-6d779e60e1fb"
      },
      "execution_count": 31,
      "outputs": [
        {
          "output_type": "stream",
          "name": "stdout",
          "text": [
            "Class Distribution:\n",
            " 0    1784\n",
            "1     966\n",
            "Name: count, dtype: int64\n"
          ]
        },
        {
          "output_type": "display_data",
          "data": {
            "text/plain": [
              "<Figure size 600x400 with 1 Axes>"
            ],
            "image/png": "[encoded data removed]"
          },
          "metadata": {}
        }
      ]
    },
    {
      "cell_type": "markdown",
      "source": [
        "# Goal:\n",
        "Replace traditional predictors with ML models to reduce pipeline stalls.\n",
        "Using two models:\n",
        "\n",
        "\n",
        "*   **Decision Trees** -> Returns which branch is taken.\n",
        "*   **Logistic Regression** -> Returns the probability that a branch is taken.\n",
        "\n",
        "To integrate the model in our processor:\n",
        "\n",
        "A simple **lookup table** can be used if the model was Decision Trees. Logistic Regression can be modeled into a **linear equation** (history * learned weight).\n",
        "\n"
      ],
      "metadata": {
        "id": "UTaMBkp0XwfI"
      }
    },
    {
      "cell_type": "code",
      "source": [
        "def train_and_evaluate(model, X_train, X_test, y_train, y_test):\n",
        "    model.fit(X_train, y_train)\n",
        "\n",
        "    # Predictions\n",
        "    y_train_pred = model.predict(X_train)\n",
        "    y_test_pred = model.predict(X_test)\n",
        "\n",
        "    # Train set\n",
        "    train_precision = precision_score(y_train, y_train_pred, average='weighted', zero_division=0)\n",
        "    train_recall = recall_score(y_train, y_train_pred, average='weighted', zero_division=0)\n",
        "    train_f1 = f1_score(y_train, y_train_pred, average='weighted', zero_division=0)\n",
        "\n",
        "    # Test set\n",
        "    test_precision = precision_score(y_test, y_test_pred, average='weighted', zero_division=0)\n",
        "    test_recall = recall_score(y_test, y_test_pred, average='weighted', zero_division=0)\n",
        "    test_f1 = f1_score(y_test, y_test_pred, average='weighted', zero_division=0)\n",
        "\n",
        "    print(f\"\\nModel: {model.__class__.__name__}\")\n",
        "    print(f\"Train Precision: {train_precision:.4f} | Test Precision: {test_precision:.4f}\")\n",
        "    print(f\"Train Recall: {train_recall:.4f} | Test Recall: {test_recall:.4f}\")\n",
        "    print(f\"Train F1 Score: {train_f1:.4f} | Test F1 Score: {test_f1:.4f}\")\n",
        "\n",
        "    # Cross-validation\n",
        "    cv_scores = cross_val_score(model, X, y, cv=5, scoring=\"f1_weighted\")\n",
        "    print(f\"Cross-validation F1 scores: {cv_scores}\")\n",
        "    print(f\"Mean CV F1-score: {np.mean(cv_scores):.4f}\")"
      ],
      "metadata": {
        "id": "Vfx4fJfuS8PE"
      },
      "execution_count": 26,
      "outputs": []
    },
    {
      "cell_type": "code",
      "source": [
        "log_reg = LogisticRegression(max_iter=1000)\n",
        "train_and_evaluate(log_reg, X_train, X_test, y_train, y_test)"
      ],
      "metadata": {
        "colab": {
          "base_uri": "https://localhost:8080/"
        },
        "id": "d14Go0hrUGdQ",
        "outputId": "3fec554e-3291-4c4c-b352-1c289512f198"
      },
      "execution_count": 27,
      "outputs": [
        {
          "output_type": "stream",
          "name": "stdout",
          "text": [
            "\n",
            "Model: LogisticRegression\n",
            "Train Precision: 0.9474 | Test Precision: 0.9495\n",
            "Train Recall: 0.9473 | Test Recall: 0.9491\n",
            "Train F1 Score: 0.9469 | Test F1 Score: 0.9486\n",
            "Cross-validation F1 scores: [0.89590966 0.97264315 0.96715072 0.95614363 0.90580202]\n",
            "Mean CV F1-score: 0.9395\n"
          ]
        }
      ]
    },
    {
      "cell_type": "code",
      "source": [
        "decision_tree = DecisionTreeClassifier(class_weight=\"balanced\", max_depth=5, ccp_alpha=0.01)\n",
        "train_and_evaluate(decision_tree, X_train, X_test, y_train, y_test)"
      ],
      "metadata": {
        "colab": {
          "base_uri": "https://localhost:8080/"
        },
        "id": "sKpDHunFUJb4",
        "outputId": "b6086469-a953-42a6-e3db-e2d04dc142bf"
      },
      "execution_count": 34,
      "outputs": [
        {
          "output_type": "stream",
          "name": "stdout",
          "text": [
            "\n",
            "Model: DecisionTreeClassifier\n",
            "Train Precision: 0.9831 | Test Precision: 0.9767\n",
            "Train Recall: 0.9827 | Test Recall: 0.9764\n",
            "Train F1 Score: 0.9826 | Test F1 Score: 0.9762\n",
            "Cross-validation F1 scores: [0.91240191 0.99088105 0.98905024 0.98538121 0.95952018]\n",
            "Mean CV F1-score: 0.9674\n"
          ]
        }
      ]
    },
    {
      "cell_type": "markdown",
      "source": [
        "Comparing traditional with ML"
      ],
      "metadata": {
        "id": "y45Gde-EduU3"
      }
    },
    {
      "cell_type": "code",
      "source": [
        "def saturating_counter_predictor(x):\n",
        "    return [1 if sum(history) >= (len(history) / 2) else 0 for history in x]\n",
        "def evaluate_saturating_counter(x, y):\n",
        "    try:\n",
        "        y_pred = saturating_counter_predictor(x)\n",
        "        precision = precision_score(y, y_pred, average='weighted', zero_division=0)\n",
        "        recall = recall_score(y, y_pred, average='weighted', zero_division=0)\n",
        "        f1 = f1_score(y, y_pred, average='weighted', zero_division=0)\n",
        "\n",
        "        print(\"\\nTraditional: 2-bit Saturating Counter Predictor\")\n",
        "        print(f\"Precision: {precision:.4f}\")\n",
        "        print(f\"Recall: {recall:.4f}\")\n",
        "        print(f\"F1 Score: {f1:.4f}\")\n",
        "    except Exception as e:\n",
        "        print(\"Error evaluating saturating counter predictor:\", e)\n",
        "\n",
        "evaluate_saturating_counter(X_test, y_test)"
      ],
      "metadata": {
        "id": "kpLZ9khJTdf2",
        "colab": {
          "base_uri": "https://localhost:8080/"
        },
        "outputId": "f3579cee-13fc-4481-bcbc-84cd3f3f6ed2"
      },
      "execution_count": 29,
      "outputs": [
        {
          "output_type": "stream",
          "name": "stdout",
          "text": [
            "\n",
            "Traditional: 2-bit Saturating Counter Predictor\n",
            "Precision: 0.5248\n",
            "Recall: 0.6473\n",
            "F1 Score: 0.5194\n"
          ]
        }
      ]
    },
    {
      "cell_type": "code",
      "source": [
        "from sklearn.metrics import confusion_matrix, classification_report\n",
        "\n",
        "y_pred_tree = decision_tree.predict(X_test)\n",
        "\n",
        "\n",
        "conf_matrix = confusion_matrix(y_test, y_pred_tree)\n",
        "print(\"Confusion Matrix:\\n\", conf_matrix)\n",
        "print(\"\\nClassification Report:\\n\", classification_report(y_test, y_pred_tree))\n"
      ],
      "metadata": {
        "colab": {
          "base_uri": "https://localhost:8080/"
        },
        "id": "yoKz8AFKVhkL",
        "outputId": "7472a5c6-f5d9-44b1-c846-ba13618cf369"
      },
      "execution_count": 32,
      "outputs": [
        {
          "output_type": "stream",
          "name": "stdout",
          "text": [
            "Confusion Matrix:\n",
            " [[357   2]\n",
            " [ 11 180]]\n",
            "\n",
            "Classification Report:\n",
            "               precision    recall  f1-score   support\n",
            "\n",
            "           0       0.97      0.99      0.98       359\n",
            "           1       0.99      0.94      0.97       191\n",
            "\n",
            "    accuracy                           0.98       550\n",
            "   macro avg       0.98      0.97      0.97       550\n",
            "weighted avg       0.98      0.98      0.98       550\n",
            "\n"
          ]
        }
      ]
    },
    {
      "cell_type": "code",
      "source": [
        "print(\"Per-Class Performance:\")\n",
        "print(classification_report(y_test, y_pred_tree, digits=4))"
      ],
      "metadata": {
        "colab": {
          "base_uri": "https://localhost:8080/"
        },
        "id": "S4S06hMfV_fl",
        "outputId": "56713d9b-9039-4eb8-a3f0-1d0766c45c9a"
      },
      "execution_count": 33,
      "outputs": [
        {
          "output_type": "stream",
          "name": "stdout",
          "text": [
            "Per-Class Performance:\n",
            "              precision    recall  f1-score   support\n",
            "\n",
            "           0     0.9701    0.9944    0.9821       359\n",
            "           1     0.9890    0.9424    0.9651       191\n",
            "\n",
            "    accuracy                         0.9764       550\n",
            "   macro avg     0.9796    0.9684    0.9736       550\n",
            "weighted avg     0.9767    0.9764    0.9762       550\n",
            "\n"
          ]
        }
      ]
    },
    {
      "cell_type": "code",
      "source": [
        "from imblearn.over_sampling import SMOTE\n",
        "\n",
        "smote = SMOTE(sampling_strategy='auto', random_state=42)\n",
        "X_resampled, y_resampled = smote.fit_resample(X_train, y_train)\n",
        "\n",
        "class_counts = pd.Series(y_resampled).value_counts()\n",
        "print(\"Class Distribution:\\n\", class_counts)\n",
        "plt.figure(figsize=(6, 4))\n",
        "class_counts.plot(kind='bar', color=['blue', 'orange'])\n",
        "plt.xlabel(\"Class Labels\")\n",
        "plt.ylabel(\"Count\")\n",
        "plt.title(\"Class Distribution in Dataset\")\n",
        "plt.show()"
      ],
      "metadata": {
        "colab": {
          "base_uri": "https://localhost:8080/",
          "height": 474
        },
        "id": "CmXvGg1OWfkH",
        "outputId": "7fa8b5c7-9eb7-42a0-e28c-e455b1067154"
      },
      "execution_count": 35,
      "outputs": [
        {
          "output_type": "stream",
          "name": "stdout",
          "text": [
            "Class Distribution:\n",
            " 1    1425\n",
            "0    1425\n",
            "Name: count, dtype: int64\n"
          ]
        },
        {
          "output_type": "display_data",
          "data": {
            "text/plain": [
              "<Figure size 600x400 with 1 Axes>"
            ],
            "image/png": "[encoded data removed]"
          },
          "metadata": {}
        }
      ]
    },
    {
      "cell_type": "code",
      "source": [
        "decision_tree = DecisionTreeClassifier(max_depth=5, ccp_alpha=0.01)\n",
        "train_and_evaluate(decision_tree, X_resampled, X_test, y_resampled, y_test)"
      ],
      "metadata": {
        "colab": {
          "base_uri": "https://localhost:8080/"
        },
        "id": "I9sAC07yWzSq",
        "outputId": "ec03086e-c5fa-4b52-cb03-0c411e11d10b"
      },
      "execution_count": 36,
      "outputs": [
        {
          "output_type": "stream",
          "name": "stdout",
          "text": [
            "\n",
            "Model: DecisionTreeClassifier\n",
            "Train Precision: 0.9768 | Test Precision: 0.9749\n",
            "Train Recall: 0.9758 | Test Recall: 0.9745\n",
            "Train F1 Score: 0.9758 | Test F1 Score: 0.9744\n",
            "Cross-validation F1 scores: [0.91428186 0.99088105 0.98905024 0.98538121 0.89935166]\n",
            "Mean CV F1-score: 0.9558\n"
          ]
        }
      ]
    }
  ]
}